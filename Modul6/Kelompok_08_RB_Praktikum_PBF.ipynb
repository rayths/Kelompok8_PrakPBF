{
  "nbformat": 4,
  "nbformat_minor": 0,
  "metadata": {
    "colab": {
      "provenance": []
    },
    "kernelspec": {
      "name": "python3",
      "display_name": "Python 3"
    },
    "language_info": {
      "name": "python"
    }
  },
  "cells": [
    {
      "cell_type": "markdown",
      "source": [
        "# Tugas Kelompok Modul 5\n",
        "\n",
        "Nama Anggota Kelompok 8:\n",
        "\n",
        "Arafi Ramadhan Maulana - 122450004\\\n",
        "Dwi Ratna Anggraeni - 122450008\\\n",
        "Raid Muhammad Naufal - 122450027\\\n",
        "Rayan Koemi Karuby - 122450038\\\n",
        "M. Deriansyah Okutra - 122450101"
      ],
      "metadata": {
        "id": "ZY4HPeSlBx4n"
      }
    },
    {
      "cell_type": "markdown",
      "source": [
        "## Validasi Data Positif dengan HOF"
      ],
      "metadata": {
        "id": "fC3fg6UzB0SG"
      }
    },
    {
      "cell_type": "markdown",
      "source": [
        "### Import Library"
      ],
      "metadata": {
        "id": "dsFNn-m5ad5P"
      }
    },
    {
      "cell_type": "code",
      "source": [
        "import random"
      ],
      "metadata": {
        "id": "NFGj5UoLaf21"
      },
      "execution_count": 1,
      "outputs": []
    },
    {
      "cell_type": "markdown",
      "source": [
        "### Fungsi Validasi Data Positif"
      ],
      "metadata": {
        "id": "Pme6ew5gEZC-"
      }
    },
    {
      "cell_type": "code",
      "source": [
        "angka_positif = lambda x: x if x > 0 else None"
      ],
      "metadata": {
        "id": "pBTIKToGEfWj"
      },
      "execution_count": 2,
      "outputs": []
    },
    {
      "cell_type": "markdown",
      "source": [
        "### Generate Data"
      ],
      "metadata": {
        "id": "tGLrS-CeE8XG"
      }
    },
    {
      "cell_type": "code",
      "source": [
        "data = [random.randint(-50, 50) for i in range(50)]"
      ],
      "metadata": {
        "id": "GDeLiryDF4-K"
      },
      "execution_count": 3,
      "outputs": []
    },
    {
      "cell_type": "markdown",
      "source": [
        "### Data"
      ],
      "metadata": {
        "id": "kCqPWObEa4xt"
      }
    },
    {
      "cell_type": "code",
      "source": [
        "print(data)"
      ],
      "metadata": {
        "colab": {
          "base_uri": "https://localhost:8080/"
        },
        "id": "q3qoVGUBa6Ow",
        "outputId": "5f902dc4-d4d7-42c1-8d26-451299c1d961"
      },
      "execution_count": 4,
      "outputs": [
        {
          "output_type": "stream",
          "name": "stdout",
          "text": [
            "[5, -6, 19, -33, 30, -26, 12, 17, -21, 1, -42, -50, -12, -26, -37, -2, 42, 8, 41, -46, -10, 31, -16, -33, 11, -10, -6, -25, -10, 8, 42, -13, -45, -9, -28, -14, 9, -28, 6, -45, 36, -29, -17, -32, 48, -13, 22, 27, -32, 28]\n"
          ]
        }
      ]
    },
    {
      "cell_type": "markdown",
      "source": [
        "### Dimensi Data"
      ],
      "metadata": {
        "id": "ZeC6b3HIPYTb"
      }
    },
    {
      "cell_type": "code",
      "source": [
        "len(data)"
      ],
      "metadata": {
        "colab": {
          "base_uri": "https://localhost:8080/"
        },
        "id": "ZmFJDPKRPX3b",
        "outputId": "c57274b7-3e2b-4adc-8589-d351c3b2af12"
      },
      "execution_count": 5,
      "outputs": [
        {
          "output_type": "execute_result",
          "data": {
            "text/plain": [
              "50"
            ]
          },
          "metadata": {},
          "execution_count": 5
        }
      ]
    },
    {
      "cell_type": "markdown",
      "source": [
        "### Penggunaan Validasi Data Positif dengan HOF"
      ],
      "metadata": {
        "id": "sv7pIKX2G2ww"
      }
    },
    {
      "cell_type": "code",
      "source": [
        "data_valid =  list(filter(angka_positif, data))"
      ],
      "metadata": {
        "id": "etVvyAueG0Ty"
      },
      "execution_count": 6,
      "outputs": []
    },
    {
      "cell_type": "markdown",
      "source": [
        "#### Data Setelah di Validasi"
      ],
      "metadata": {
        "id": "vBhCSYBsP0Ux"
      }
    },
    {
      "cell_type": "code",
      "source": [
        "print(data_valid)"
      ],
      "metadata": {
        "colab": {
          "base_uri": "https://localhost:8080/"
        },
        "id": "eufVe-iHPyi8",
        "outputId": "d5e71c70-c6d9-49e3-c8bd-a07a9de03a93"
      },
      "execution_count": 7,
      "outputs": [
        {
          "output_type": "stream",
          "name": "stdout",
          "text": [
            "[5, 19, 30, 12, 17, 1, 42, 8, 41, 31, 11, 8, 42, 9, 6, 36, 48, 22, 27, 28]\n"
          ]
        }
      ]
    },
    {
      "cell_type": "markdown",
      "source": [
        "#### Dimensi Data Setelah di Validasi"
      ],
      "metadata": {
        "id": "2pWT_-LRQe7-"
      }
    },
    {
      "cell_type": "code",
      "source": [
        "len(data_valid)"
      ],
      "metadata": {
        "colab": {
          "base_uri": "https://localhost:8080/"
        },
        "id": "58R1uTl7Qaby",
        "outputId": "a3f2e5ba-3b66-4b81-c602-ffe5c38a9da2"
      },
      "execution_count": 8,
      "outputs": [
        {
          "output_type": "execute_result",
          "data": {
            "text/plain": [
              "20"
            ]
          },
          "metadata": {},
          "execution_count": 8
        }
      ]
    }
  ]
}